{
 "cells": [
  {
   "cell_type": "markdown",
   "id": "287bb172",
   "metadata": {},
   "source": [
    "# Curso de Ciencia de Datos con Python"
   ]
  },
  {
   "cell_type": "markdown",
   "id": "504f98df",
   "metadata": {},
   "source": [
    "## Usando Jupyter Notebook"
   ]
  },
  {
   "cell_type": "code",
   "execution_count": 1,
   "id": "2c55ec49",
   "metadata": {},
   "outputs": [
    {
     "name": "stdout",
     "output_type": "stream",
     "text": [
      "Curso de Ciencia de Datos con Python\n"
     ]
    }
   ],
   "source": [
    "print(\"Curso de Ciencia de Datos con Python\")"
   ]
  },
  {
   "cell_type": "code",
   "execution_count": 2,
   "id": "c5b8921b",
   "metadata": {},
   "outputs": [
    {
     "name": "stdout",
     "output_type": "stream",
     "text": [
      "2 es par\n",
      "101 es impar\n"
     ]
    }
   ],
   "source": [
    "def paridad(numero):\n",
    "    if numero % 2 == 0:\n",
    "        print(f\"{numero} es par\")\n",
    "    else:\n",
    "        print(f\"{numero} es impar\")\n",
    "\n",
    "paridad(2)\n",
    "paridad(101)"
   ]
  },
  {
   "cell_type": "code",
   "execution_count": 7,
   "id": "c4d8b521",
   "metadata": {},
   "outputs": [
    {
     "name": "stdout",
     "output_type": "stream",
     "text": [
      "<class 'numpy.ndarray'>\n",
      "[1 2 3 4 5 6 7]\n",
      "<class 'numpy.ndarray'>\n",
      "nro_array -->  [[1.1 2.3]\n",
      " [4.2 5.8]]\n",
      "dtype -->  float64\n",
      "ndim -->  2\n",
      "size -->  4\n",
      "shape -->  (2, 2)\n"
     ]
    }
   ],
   "source": [
    "import numpy\n",
    "\n",
    "el_array = numpy.array([1, 2, 3, 4, 5, 6, 7])\n",
    "print(type(el_array))\n",
    "print(el_array)\n",
    "\n",
    "nro_list = [[1.1, 2.3],\n",
    "            [4.2, 5.8]]\n",
    "nro_array = numpy.array(nro_list)\n",
    "\n",
    "print(type(nro_array))\n",
    "print(\"nro_array --> \",nro_array)\n",
    "print(\"dtype --> \",nro_array.dtype)\n",
    "print(\"ndim --> \",nro_array.ndim)\n",
    "print(\"size --> \",nro_array.size)\n",
    "print(\"shape --> \",nro_array.shape)"
   ]
  },
  {
   "cell_type": "code",
   "execution_count": null,
   "id": "ffcb527f",
   "metadata": {},
   "outputs": [],
   "source": []
  }
 ],
 "metadata": {
  "kernelspec": {
   "display_name": "Python 3",
   "language": "python",
   "name": "python3"
  },
  "language_info": {
   "codemirror_mode": {
    "name": "ipython",
    "version": 3
   },
   "file_extension": ".py",
   "mimetype": "text/x-python",
   "name": "python",
   "nbconvert_exporter": "python",
   "pygments_lexer": "ipython3",
   "version": "3.8.8"
  }
 },
 "nbformat": 4,
 "nbformat_minor": 5
}
