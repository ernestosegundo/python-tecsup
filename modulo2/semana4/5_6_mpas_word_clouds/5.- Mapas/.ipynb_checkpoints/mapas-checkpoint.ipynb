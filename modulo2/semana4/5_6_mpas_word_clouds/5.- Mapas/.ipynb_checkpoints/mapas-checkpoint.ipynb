{
 "cells": [
  {
   "cell_type": "markdown",
   "metadata": {},
   "source": [
    "# Módulo 02 : Sesión 04\n",
    "# Generando Mapas"
   ]
  },
  {
   "cell_type": "markdown",
   "metadata": {},
   "source": [
    "## Follium : Python data, leaflet.js maps\n",
    "\n",
    "\n",
    "[Follium]\n",
    "(https://python-visualization.github.io/folium/) es una biblioteca para la generación de mapas"
   ]
  },
  {
   "cell_type": "code",
   "execution_count": 1,
   "metadata": {},
   "outputs": [
    {
     "data": {
      "text/plain": [
       "'\\nconda create -n newenv -c conda-forge\\nconda install geodata\\nconda activate newenv\\n'"
      ]
     },
     "execution_count": 1,
     "metadata": {},
     "output_type": "execute_result"
    }
   ],
   "source": [
    "# CREATE NEW ENVIRONMENT\n",
    "\"\"\"\n",
    "conda create -n newenv -c conda-forge\n",
    "conda install geodata\n",
    "conda activate newenv\n",
    "\"\"\""
   ]
  },
  {
   "cell_type": "code",
   "execution_count": 3,
   "metadata": {},
   "outputs": [],
   "source": [
    "# Instalación \n",
    "\n",
    "#!conda install -c conda-forge geopandas --yes\n",
    "#!conda install -c conda-forge folium --yes\n",
    "#!conda install  -c conda-forge earthengine-api --yes\n",
    "#!conda update conda --yes"
   ]
  },
  {
   "cell_type": "code",
   "execution_count": 4,
   "metadata": {},
   "outputs": [
    {
     "ename": "ModuleNotFoundError",
     "evalue": "No module named 'geopandas'",
     "output_type": "error",
     "traceback": [
      "\u001b[1;31m---------------------------------------------------------------------------\u001b[0m",
      "\u001b[1;31mModuleNotFoundError\u001b[0m                       Traceback (most recent call last)",
      "\u001b[1;32m<ipython-input-4-87f45ea43691>\u001b[0m in \u001b[0;36m<module>\u001b[1;34m\u001b[0m\n\u001b[0;32m      1\u001b[0m \u001b[1;32mimport\u001b[0m \u001b[0mfolium\u001b[0m\u001b[1;33m\u001b[0m\u001b[1;33m\u001b[0m\u001b[0m\n\u001b[1;32m----> 2\u001b[1;33m \u001b[1;32mimport\u001b[0m \u001b[0mgeopandas\u001b[0m \u001b[1;32mas\u001b[0m \u001b[0mgpd\u001b[0m\u001b[1;33m\u001b[0m\u001b[1;33m\u001b[0m\u001b[0m\n\u001b[0m",
      "\u001b[1;31mModuleNotFoundError\u001b[0m: No module named 'geopandas'"
     ]
    }
   ],
   "source": [
    "import folium\n",
    "#import geopandas as gpd"
   ]
  },
  {
   "cell_type": "code",
   "execution_count": null,
   "metadata": {},
   "outputs": [],
   "source": [
    "# Define el mapa mundial\n",
    "world_map = folium.Map()\n",
    "\n",
    "# Se muestra el mapa mundial\n",
    "world_map"
   ]
  },
  {
   "cell_type": "code",
   "execution_count": null,
   "metadata": {
    "scrolled": false
   },
   "outputs": [],
   "source": [
    "# Define el mapa centrado alrededor de Lima con un nivel de zoom\n",
    "world_map = folium.Map(location=[-12.11, -77.09], zoom_start=12)\n",
    "\n",
    "# Muestra el mapa\n",
    "world_map"
   ]
  },
  {
   "cell_type": "code",
   "execution_count": null,
   "metadata": {},
   "outputs": [],
   "source": [
    "# Define el mapa centrado alrededor de Lima con un nivel de zoom\n",
    "world_map = folium.Map(location=[-12.11, -77.09], zoom_start=12, tiles='Stamen Terrain')\n",
    "\n",
    "# Muestra el mapa\n",
    "world_map"
   ]
  },
  {
   "cell_type": "code",
   "execution_count": null,
   "metadata": {
    "scrolled": true
   },
   "outputs": [],
   "source": [
    "# Define el mapa centrado alrededor de Lima con un nivel de zoom\n",
    "world_map = folium.Map(location=[-12.11, -77.09], zoom_start=12, tiles='Stamen Toner')\n",
    "\n",
    "# Muestra el mapa\n",
    "world_map"
   ]
  },
  {
   "cell_type": "markdown",
   "metadata": {},
   "source": [
    "Data de Covid :\n",
    "https://www.kaggle.com/grebublin/coronavirus-latlon-dataset?select=CV_LatLon_21Jan_12Mar.csv\n",
    "\n",
    "Data de \n",
    "https://simplemaps.com/data/pe-cities"
   ]
  },
  {
   "cell_type": "code",
   "execution_count": null,
   "metadata": {},
   "outputs": [],
   "source": [
    "import pandas as pd\n",
    "#archivo_csv = \"pe.csv\"\n",
    "archivo_csv = \"CV_LatLon_21Jan_12Mar.csv\"\n",
    "df = pd.read_csv(archivo_csv)\n",
    "df.head()"
   ]
  },
  {
   "cell_type": "code",
   "execution_count": null,
   "metadata": {},
   "outputs": [],
   "source": [
    "df = df[(df['country'] == 'Peru')]\n",
    "#len(df)\n",
    "df.head()"
   ]
  },
  {
   "cell_type": "code",
   "execution_count": null,
   "metadata": {},
   "outputs": [],
   "source": [
    "df_covid = df.groupby([\"country\",\"lat\",\"lon\"])['confirmed'].sum().reset_index()\n",
    "df_covid"
   ]
  },
  {
   "cell_type": "code",
   "execution_count": null,
   "metadata": {},
   "outputs": [],
   "source": [
    "df_covid.iloc[0]['lat']"
   ]
  },
  {
   "cell_type": "code",
   "execution_count": null,
   "metadata": {},
   "outputs": [],
   "source": [
    "map_covid = folium.Map(location=[df_covid.iloc[0]['lat'], df_covid.iloc[0]['lon']], zoom_start = 12) "
   ]
  },
  {
   "cell_type": "code",
   "execution_count": null,
   "metadata": {},
   "outputs": [],
   "source": [
    "from folium import Choropleth, Circle, Marker\n",
    "\n",
    "for index, row in df_covid.iterrows():\n",
    "    Marker((row['lat'], row['lon']), icon=folium.Icon(color='red')).add_to(map_covid)"
   ]
  },
  {
   "cell_type": "code",
   "execution_count": null,
   "metadata": {},
   "outputs": [],
   "source": [
    "map_covid"
   ]
  },
  {
   "cell_type": "code",
   "execution_count": null,
   "metadata": {},
   "outputs": [],
   "source": [
    "map_covid.save('mapa_covid.html')"
   ]
  }
 ],
 "metadata": {
  "kernelspec": {
   "display_name": "Python 3",
   "language": "python",
   "name": "python3"
  },
  "language_info": {
   "codemirror_mode": {
    "name": "ipython",
    "version": 3
   },
   "file_extension": ".py",
   "mimetype": "text/x-python",
   "name": "python",
   "nbconvert_exporter": "python",
   "pygments_lexer": "ipython3",
   "version": "3.8.8"
  }
 },
 "nbformat": 4,
 "nbformat_minor": 4
}
